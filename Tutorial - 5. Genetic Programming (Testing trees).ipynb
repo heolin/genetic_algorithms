{
 "cells": [
  {
   "cell_type": "code",
   "execution_count": 1,
   "metadata": {
    "collapsed": true
   },
   "outputs": [],
   "source": [
    "from deap import base, creator, gp, tools"
   ]
  },
  {
   "cell_type": "code",
   "execution_count": 2,
   "metadata": {
    "collapsed": false
   },
   "outputs": [
    {
     "data": {
      "text/plain": [
       "'re_range(a, b)'"
      ]
     },
     "execution_count": 2,
     "metadata": {},
     "output_type": "execute_result"
    }
   ],
   "source": [
    "re_range = gp.Primitive(\"re_range\", (str, str), str)\n",
    "re_range.format(\"a\", \"b\")"
   ]
  },
  {
   "cell_type": "code",
   "execution_count": 3,
   "metadata": {
    "collapsed": false
   },
   "outputs": [
    {
     "data": {
      "text/plain": [
       "'re_star(re_range(a, b))'"
      ]
     },
     "execution_count": 3,
     "metadata": {},
     "output_type": "execute_result"
    }
   ],
   "source": [
    "re_star = gp.Primitive(\"re_star\", (gp.Primitive, ), gp.Primitive)\n",
    "re_star.format(re_range.format(\"a\", \"b\"))"
   ]
  },
  {
   "cell_type": "code",
   "execution_count": 32,
   "metadata": {
    "collapsed": false
   },
   "outputs": [
    {
     "ename": "TypeError",
     "evalue": "__init__() takes at least 4 arguments (3 given)",
     "output_type": "error",
     "traceback": [
      "\u001b[0;31m---------------------------------------------------------------------------\u001b[0m",
      "\u001b[0;31mTypeError\u001b[0m                                 Traceback (most recent call last)",
      "\u001b[0;32m<ipython-input-32-0387d671d658>\u001b[0m in \u001b[0;36m<module>\u001b[0;34m()\u001b[0m\n\u001b[0;32m----> 1\u001b[0;31m \u001b[0mpset\u001b[0m \u001b[0;34m=\u001b[0m \u001b[0mgp\u001b[0m\u001b[0;34m.\u001b[0m\u001b[0mPrimitiveSetTyped\u001b[0m\u001b[0;34m(\u001b[0m\u001b[0;34m\"MAIN\"\u001b[0m\u001b[0;34m,\u001b[0m \u001b[0;36m1\u001b[0m\u001b[0;34m)\u001b[0m\u001b[0;34m\u001b[0m\u001b[0m\n\u001b[0m\u001b[1;32m      2\u001b[0m \u001b[0mpset\u001b[0m\u001b[0;34m.\u001b[0m\u001b[0maddPrimitive\u001b[0m\u001b[0;34m(\u001b[0m\u001b[0mre_range\u001b[0m\u001b[0;34m,\u001b[0m \u001b[0;36m2\u001b[0m\u001b[0;34m,\u001b[0m \u001b[0;34m\"re_range\"\u001b[0m\u001b[0;34m)\u001b[0m\u001b[0;34m\u001b[0m\u001b[0m\n\u001b[1;32m      3\u001b[0m \u001b[0mpset\u001b[0m\u001b[0;34m.\u001b[0m\u001b[0maddPrimitive\u001b[0m\u001b[0;34m(\u001b[0m\u001b[0mre_star\u001b[0m\u001b[0;34m,\u001b[0m \u001b[0;36m1\u001b[0m\u001b[0;34m,\u001b[0m \u001b[0;34m\"re_star\"\u001b[0m\u001b[0;34m)\u001b[0m\u001b[0;34m\u001b[0m\u001b[0m\n",
      "\u001b[0;31mTypeError\u001b[0m: __init__() takes at least 4 arguments (3 given)"
     ]
    }
   ],
   "source": [
    "pset = gp.PrimitiveSetTyped(\"MAIN\", 1)\n",
    "pset.addPrimitive(re_range, 2, \"re_range\")\n",
    "pset.addPrimitive(re_star, 1, \"re_star\")"
   ]
  },
  {
   "cell_type": "code",
   "execution_count": 30,
   "metadata": {
    "collapsed": false
   },
   "outputs": [],
   "source": [
    "pset.renameArguments(ARG0='x')\n",
    "\n",
    "creator.create(\"Individual\", gp.PrimitiveTree)\n",
    "\n",
    "toolbox = base.Toolbox()\n",
    "toolbox.register(\"expr\", gp.genHalfAndHalf, pset=pset, min_=3, max_=5)\n",
    "toolbox.register(\"individual\", tools.initIterate, creator.Individual, toolbox.expr)\n",
    "\n",
    "expr = toolbox.individual()\n",
    "nodes, edges, labels = gp.graph(expr)"
   ]
  },
  {
   "cell_type": "code",
   "execution_count": 31,
   "metadata": {
    "collapsed": false
   },
   "outputs": [],
   "source": [
    "import pygraphviz as pgv\n",
    "\n",
    "g = pgv.AGraph()\n",
    "g.add_nodes_from(nodes)\n",
    "g.add_edges_from(edges)\n",
    "g.layout(prog=\"dot\")\n",
    "\n",
    "for i in nodes:\n",
    "    n = g.get_node(i)\n",
    "    n.attr[\"label\"] = labels[i]\n",
    "\n",
    "g.draw(\"tree.pdf\")"
   ]
  },
  {
   "cell_type": "markdown",
   "metadata": {},
   "source": [
    "## Strongly typed GP"
   ]
  },
  {
   "cell_type": "code",
   "execution_count": 418,
   "metadata": {
    "collapsed": false
   },
   "outputs": [],
   "source": [
    "class RegexRange(object):\n",
    "    def __init__(self):\n",
    "        self.values = []\n",
    "        \n",
    "    @staticmethod\n",
    "    def create():\n",
    "        return RegexRange()\n",
    "    \n",
    "    @staticmethod\n",
    "    def add_value(rr, value):\n",
    "        rr.values.append(value)\n",
    "        return rr\n",
    "        \n",
    "    def get_value(self):\n",
    "        return \"[{0}]*\".format(\"\".join(self.values))\n",
    "        "
   ]
  },
  {
   "cell_type": "code",
   "execution_count": 408,
   "metadata": {
    "collapsed": false
   },
   "outputs": [],
   "source": [
    "pset = gp.PrimitiveSetTyped(\"main\", [], RegexRange)\n",
    "\n",
    "pset.addPrimitive(lambda :\"A-Z\", [], str, \"Letters\")\n",
    "pset.addPrimitive(lambda :\"0-9\", [], str, \"Numbers\")\n",
    "pset.addPrimitive(lambda :\",.!?\", [], str, \"Punctations\")\n",
    "\n",
    "pset.addPrimitive(RegexRange.create, [], RegexRange, \"Range\")\n",
    "\n",
    "pset.addPrimitive(RegexRange.add_value, [RegexRange, str], RegexRange, \"Range_AddValue\")\n"
   ]
  },
  {
   "cell_type": "code",
   "execution_count": 462,
   "metadata": {
    "collapsed": false
   },
   "outputs": [
    {
     "name": "stdout",
     "output_type": "stream",
     "text": [
      "[]\n"
     ]
    }
   ],
   "source": [
    "\n",
    "creator.create(\"FitnessMax\", base.Fitness, weights=(1.0, -1.0))\n",
    "creator.create(\"Individual\", gp.PrimitiveTree, fitness=creator.FitnessMax)\n",
    "\n",
    "toolbox = base.Toolbox()\n",
    "toolbox.register(\"expr\", gp.genHalfAndHalf, pset=pset, min_=10, max_=15)\n",
    "toolbox.register(\"individual\", tools.initIterate, creator.Individual, toolbox.expr)\n",
    "\n",
    "expr = toolbox.individual()\n",
    "nodes, edges, labels = gp.graph(expr)\n",
    "print edges"
   ]
  },
  {
   "cell_type": "code",
   "execution_count": 463,
   "metadata": {
    "collapsed": false
   },
   "outputs": [],
   "source": [
    "import pygraphviz as pgv\n",
    "\n",
    "g = pgv.AGraph()\n",
    "g.add_nodes_from(nodes)\n",
    "g.add_edges_from(edges)\n",
    "g.layout(prog=\"dot\")\n",
    "\n",
    "for i in nodes:\n",
    "    n = g.get_node(i)\n",
    "    n.attr[\"label\"] = labels[i]\n",
    "\n",
    "g.draw(\"tree.pdf\")"
   ]
  },
  {
   "cell_type": "code",
   "execution_count": 464,
   "metadata": {
    "collapsed": false
   },
   "outputs": [],
   "source": [
    "tree = gp.PrimitiveTree(expr)\n",
    "r=gp.compile(tree, pset)"
   ]
  },
  {
   "cell_type": "code",
   "execution_count": 465,
   "metadata": {
    "collapsed": false
   },
   "outputs": [
    {
     "data": {
      "text/plain": [
       "'[]*'"
      ]
     },
     "execution_count": 465,
     "metadata": {},
     "output_type": "execute_result"
    }
   ],
   "source": [
    "r.get_value()"
   ]
  },
  {
   "cell_type": "code",
   "execution_count": 466,
   "metadata": {
    "collapsed": true
   },
   "outputs": [],
   "source": [
    "import re\n",
    "items = [\"ALA\", \"Ala01\", \"ALA?\", \"1?\", \"ALA1!\"]\n",
    "def evaluate(individual):\n",
    "    regex = individual\n",
    "    tree = gp.PrimitiveTree(individual)\n",
    "    regex = \"^\"+gp.compile(tree, pset).get_value()+\"$\"\n",
    "    try:\n",
    "        value = sum([re.search(regex, item) != None for item in items])\n",
    "        return value, len(regex)\n",
    "    except:\n",
    "        return 0, len(regex)"
   ]
  },
  {
   "cell_type": "code",
   "execution_count": 470,
   "metadata": {
    "collapsed": false
   },
   "outputs": [
    {
     "name": "stdout",
     "output_type": "stream",
     "text": [
      "(2, 12)\n"
     ]
    }
   ],
   "source": [
    "ind1 = toolbox.individual()\n",
    "print evaluate(ind1)"
   ]
  },
  {
   "cell_type": "code",
   "execution_count": null,
   "metadata": {
    "collapsed": true
   },
   "outputs": [],
   "source": [
    "children = toolbox.individual()\n",
    "selected = tools.selBest([child1, child2], 2)"
   ]
  },
  {
   "cell_type": "code",
   "execution_count": null,
   "metadata": {
    "collapsed": true
   },
   "outputs": [],
   "source": []
  }
 ],
 "metadata": {
  "kernelspec": {
   "display_name": "Python 2",
   "language": "python",
   "name": "python2"
  },
  "language_info": {
   "codemirror_mode": {
    "name": "ipython",
    "version": 2
   },
   "file_extension": ".py",
   "mimetype": "text/x-python",
   "name": "python",
   "nbconvert_exporter": "python",
   "pygments_lexer": "ipython2",
   "version": "2.7.12"
  }
 },
 "nbformat": 4,
 "nbformat_minor": 2
}
