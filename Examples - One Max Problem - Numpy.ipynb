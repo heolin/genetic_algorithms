{
 "cells": [
  {
   "cell_type": "code",
   "execution_count": 11,
   "metadata": {
    "collapsed": true
   },
   "outputs": [],
   "source": [
    "%matplotlib inline"
   ]
  },
  {
   "cell_type": "code",
   "execution_count": 12,
   "metadata": {
    "collapsed": true
   },
   "outputs": [],
   "source": [
    "import array\n",
    "\n",
    "import random\n",
    "import numpy\n",
    "\n",
    "from deap import algorithms\n",
    "from deap import base\n",
    "from deap import creator\n",
    "from deap import tools\n",
    "import matplotlib.pyplot as plt"
   ]
  },
  {
   "cell_type": "code",
   "execution_count": 2,
   "metadata": {
    "collapsed": true
   },
   "outputs": [],
   "source": [
    "creator.create(\"FitnessMax\", base.Fitness, weights=(1.0,))\n",
    "creator.create(\"Individual\", numpy.ndarray, fitness=creator.FitnessMax)\n",
    "\n",
    "toolbox = base.Toolbox()\n",
    "\n",
    "toolbox.register(\"attr_bool\", random.randint, 0, 1)\n",
    "\n",
    "toolbox.register(\"individual\", tools.initRepeat, creator.Individual, toolbox.attr_bool, 100)\n",
    "toolbox.register(\"population\", tools.initRepeat, list, toolbox.individual)"
   ]
  },
  {
   "cell_type": "code",
   "execution_count": 3,
   "metadata": {
    "collapsed": true
   },
   "outputs": [],
   "source": [
    "def cxTwoPointCopy(ind1, ind2):\n",
    "    \"\"\"Execute a two points crossover with copy on the input individuals. The\n",
    "    copy is required because the slicing in numpy returns a view of the data,\n",
    "    which leads to a self overwritting in the swap operation. \"\"\"\n",
    "    size = len(ind1)\n",
    "    cxpoint1 = random.randint(1, size)\n",
    "    cxpoint2 = random.randint(1, size - 1)\n",
    "    if cxpoint2 >= cxpoint1:\n",
    "        cxpoint2 += 1\n",
    "    else: # Swap the two cx points\n",
    "        cxpoint1, cxpoint2 = cxpoint2, cxpoint1\n",
    "\n",
    "    ind1[cxpoint1:cxpoint2], ind2[cxpoint1:cxpoint2] \\\n",
    "        = ind2[cxpoint1:cxpoint2].copy(), ind1[cxpoint1:cxpoint2].copy()\n",
    "        \n",
    "    return ind1, ind2"
   ]
  },
  {
   "cell_type": "code",
   "execution_count": 4,
   "metadata": {
    "collapsed": true
   },
   "outputs": [],
   "source": [
    "def evalOneMax(individual):\n",
    "    return sum(individual),\n",
    "\n",
    "toolbox.register(\"evaluate\", evalOneMax)\n",
    "toolbox.register(\"mate\", cxTwoPointCopy)\n",
    "toolbox.register(\"mutate\", tools.mutFlipBit, indpb=0.05)\n",
    "toolbox.register(\"select\", tools.selTournament, tournsize=3)\n"
   ]
  },
  {
   "cell_type": "code",
   "execution_count": 6,
   "metadata": {
    "collapsed": false
   },
   "outputs": [
    {
     "name": "stdout",
     "output_type": "stream",
     "text": [
      "gen\tnevals\tavg    \tstd    \tmin\tmax\n",
      "0  \t300   \t49.9933\t5.19679\t35 \t64 \n",
      "1  \t189   \t54.7433\t4.4629 \t40 \t65 \n",
      "2  \t171   \t58.48  \t3.98534\t44 \t70 \n",
      "3  \t169   \t61.6067\t2.92779\t54 \t68 \n",
      "4  \t185   \t63.82  \t2.74365\t57 \t73 \n",
      "5  \t175   \t65.67  \t2.57962\t54 \t73 \n",
      "6  \t164   \t67.5467\t2.57834\t60 \t76 \n",
      "7  \t185   \t69.0667\t2.50511\t63 \t77 \n",
      "8  \t194   \t70.78  \t2.39964\t62 \t78 \n",
      "9  \t199   \t72.3133\t2.57717\t63 \t79 \n",
      "10 \t169   \t74     \t2.62552\t67 \t81 \n",
      "11 \t180   \t75.9167\t2.52911\t67 \t83 \n",
      "12 \t193   \t77.5967\t2.40291\t67 \t84 \n",
      "13 \t177   \t78.97  \t2.2969 \t72 \t85 \n",
      "14 \t195   \t80.13  \t2.3565 \t70 \t86 \n",
      "15 \t175   \t81.3967\t2.03781\t74 \t86 \n",
      "16 \t181   \t82.33  \t2.18505\t74 \t87 \n",
      "17 \t198   \t83.4033\t2.22576\t74 \t88 \n",
      "18 \t190   \t84.14  \t2.34955\t72 \t88 \n",
      "19 \t170   \t85.1   \t2.2053 \t76 \t89 \n",
      "20 \t189   \t85.77  \t2.15649\t75 \t90 \n",
      "21 \t188   \t86.4833\t2.25899\t77 \t91 \n",
      "22 \t180   \t87.24  \t2.06133\t80 \t91 \n",
      "23 \t179   \t87.95  \t1.95299\t80 \t92 \n",
      "24 \t196   \t88.42  \t2.22492\t79 \t93 \n",
      "25 \t168   \t89.2833\t1.8929 \t82 \t93 \n",
      "26 \t186   \t89.7667\t2.26102\t78 \t94 \n",
      "27 \t182   \t90.4633\t2.21404\t82 \t94 \n",
      "28 \t179   \t90.8733\t2.41329\t81 \t95 \n",
      "29 \t183   \t91.7167\t2.18702\t83 \t95 \n",
      "30 \t167   \t92.3467\t2.21656\t83 \t98 \n",
      "31 \t170   \t92.9533\t2.09869\t84 \t98 \n",
      "32 \t172   \t93.5267\t2.28239\t83 \t97 \n",
      "33 \t196   \t94.28  \t2.16985\t86 \t98 \n",
      "34 \t176   \t94.9133\t2.22392\t85 \t98 \n",
      "35 \t176   \t95.6333\t2.13359\t86 \t99 \n",
      "36 \t174   \t96.2967\t2.23651\t86 \t99 \n",
      "37 \t174   \t96.5867\t2.41436\t87 \t100\n",
      "38 \t195   \t97.3667\t2.16153\t84 \t100\n",
      "39 \t180   \t97.7467\t2.32719\t89 \t100\n",
      "40 \t196   \t98.1833\t2.33589\t88 \t100\n"
     ]
    }
   ],
   "source": [
    "random.seed(64)\n",
    "\n",
    "pop = toolbox.population(n=300)\n",
    "hof = tools.HallOfFame(1, similar=numpy.array_equal)\n",
    "stats = tools.Statistics(lambda ind: ind.fitness.values)\n",
    "stats.register(\"avg\", numpy.mean)\n",
    "stats.register(\"std\", numpy.std)\n",
    "stats.register(\"min\", numpy.min)\n",
    "stats.register(\"max\", numpy.max)\n",
    "\n",
    "pop, log = algorithms.eaSimple(pop, toolbox, cxpb=0.5, mutpb=0.2, ngen=40, \n",
    "                               stats=stats, halloffame=hof, verbose=True)\n"
   ]
  },
  {
   "cell_type": "code",
   "execution_count": null,
   "metadata": {
    "collapsed": true
   },
   "outputs": [],
   "source": []
  }
 ],
 "metadata": {
  "kernelspec": {
   "display_name": "Python 2",
   "language": "python",
   "name": "python2"
  },
  "language_info": {
   "codemirror_mode": {
    "name": "ipython",
    "version": 2
   },
   "file_extension": ".py",
   "mimetype": "text/x-python",
   "name": "python",
   "nbconvert_exporter": "python",
   "pygments_lexer": "ipython2",
   "version": "2.7.12"
  }
 },
 "nbformat": 4,
 "nbformat_minor": 2
}
